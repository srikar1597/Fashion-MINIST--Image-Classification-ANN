{
 "cells": [
  {
   "cell_type": "markdown",
   "metadata": {
    "id": "pmUFPEFdj2_V"
   },
   "source": [
    "# Artificial Neural Network Working for Fashion MNIST Classification Prediction of 10 product Categories"
   ]
  },
  {
   "cell_type": "code",
   "execution_count": 1,
   "metadata": {
    "id": "QOHMDix9j2_Z"
   },
   "outputs": [],
   "source": [
    "import numpy as np\n",
    "import pandas as pd\n",
    "%matplotlib inline\n",
    "import matplotlib as mpl\n",
    "import matplotlib.pyplot as plt\n",
    "import cv2"
   ]
  },
  {
   "cell_type": "markdown",
   "metadata": {
    "id": "73DO9r5_j2_c"
   },
   "source": [
    "## Building an Image Classifier\n",
    "First let's install and import TensorFlow and Keras"
   ]
  },
  {
   "cell_type": "markdown",
   "metadata": {
    "id": "_ciwSZFaj2_e"
   },
   "source": [
    "> conda install tensorflow\n",
    "\n",
    "> conda install pip \n",
    "\n",
    "> pip install --upgrade tensorflow==2.0.0-rc1"
   ]
  },
  {
   "cell_type": "code",
   "execution_count": 47,
   "metadata": {
    "id": "K4lx_CxMj2_g"
   },
   "outputs": [],
   "source": [
    "import tensorflow as tf\n",
    "from tensorflow import keras"
   ]
  },
  {
   "cell_type": "code",
   "execution_count": 48,
   "metadata": {
    "colab": {
     "base_uri": "https://localhost:8080/",
     "height": 35
    },
    "id": "F8SOklhBj2_i",
    "outputId": "2d1c3f83-3ce5-490a-e73b-6eb1a8f4c862"
   },
   "outputs": [
    {
     "data": {
      "application/vnd.google.colaboratory.intrinsic+json": {
       "type": "string"
      },
      "text/plain": [
       "'2.5.0'"
      ]
     },
     "execution_count": 48,
     "metadata": {
      "tags": []
     },
     "output_type": "execute_result"
    }
   ],
   "source": [
    "keras.__version__"
   ]
  },
  {
   "cell_type": "code",
   "execution_count": 49,
   "metadata": {
    "colab": {
     "base_uri": "https://localhost:8080/",
     "height": 35
    },
    "id": "vbe3HzPEj2_l",
    "outputId": "86b759ee-9eb9-4b49-8adc-1d2fee2cdd75"
   },
   "outputs": [
    {
     "data": {
      "application/vnd.google.colaboratory.intrinsic+json": {
       "type": "string"
      },
      "text/plain": [
       "'2.5.0'"
      ]
     },
     "execution_count": 49,
     "metadata": {
      "tags": []
     },
     "output_type": "execute_result"
    }
   ],
   "source": [
    "tf.__version__\n"
   ]
  },
  {
   "cell_type": "markdown",
   "metadata": {
    "id": "p0kwgbVkj2_o"
   },
   "source": [
    "Link  https://keras.io/datasets/#fashion-mnist-database-of-fashion-articles\n",
    "\n",
    "Dataset of 60,000 28x28 grayscale images of 10 fashion categories, along with a test set of 10,000 images. The class labels are:\n",
    "\n",
    "| Label |\tDescription |\n",
    "--- | --- |\n",
    "| 0\t| T-shirt/top\n",
    "| 1\t| Trouser\n",
    "| 2\t| Pullover\n",
    "| 3\t| Dress\n",
    "| 4\t| Coat\n",
    "| 5\t| Sandal\n",
    "| 6\t| Shirt\n",
    "| 7\t| Sneaker\n",
    "| 8\t| Bag\n",
    "| 9\t| Ankle boot\n",
    "\n",
    "![image.png](attachment:image.png)\n",
    "\n",
    "### Usage:\n",
    "from keras.datasets import fashion_mnist\n",
    "\n",
    "> (x_train, y_train), (x_test, y_test) = fashion_mnist.load_data()\n",
    "\n",
    "Returns:\n",
    "2 tuples:\n",
    "1. x_train, x_test: uint8 array of grayscale image data with shape (num_samples, 28, 28).\n",
    "2. y_train, y_test: uint8 array of labels (integers in range 0-9) with shape (num_samples,)."
   ]
  },
  {
   "cell_type": "code",
   "execution_count": 50,
   "metadata": {
    "id": "QGTWBdWCj2_r"
   },
   "outputs": [],
   "source": [
    "fashion_mnist = keras.datasets.fashion_mnist\n",
    "(X_train_full, y_train_full), (X_test, y_test) = fashion_mnist.load_data()"
   ]
  },
  {
   "cell_type": "code",
   "execution_count": 55,
   "metadata": {
    "colab": {
     "base_uri": "https://localhost:8080/"
    },
    "id": "4lVEpwG0mDgk",
    "outputId": "dc63e2d1-65f0-4949-a3a4-4a71eb021031"
   },
   "outputs": [
    {
     "name": "stdout",
     "output_type": "stream",
     "text": [
      "The dimension of x is 2D matrix as  (28, 28)\n"
     ]
    }
   ],
   "source": [
    "# selecting the first sample\n",
    "x = X_train[10]\n",
    "print(\"The dimension of x is 2D matrix as \", x.shape)\n",
    "# Resizing the image\n",
    "x = cv2.resize(x, (18,18))"
   ]
  },
  {
   "cell_type": "code",
   "execution_count": 56,
   "metadata": {
    "colab": {
     "base_uri": "https://localhost:8080/"
    },
    "id": "b-BUXfrhmQR-",
    "outputId": "7f91bae1-8202-4e5c-8562-deaf48dddc76"
   },
   "outputs": [
    {
     "name": "stdout",
     "output_type": "stream",
     "text": [
      "The range of pixel varies between 0 to 255\n",
      "The pixel having black is more close to 0 and pixel which is white is more close to 255\n",
      "[[0.00000000e+00 0.00000000e+00 0.00000000e+00 0.00000000e+00\n",
      "  1.90631817e-02 1.65456302e-01 3.69002568e-01 2.31663046e-01\n",
      "  1.92870979e-01 1.92931498e-01 2.78867093e-01 3.76349444e-01\n",
      "  1.65879931e-01 9.58605701e-03 2.05761373e-03 0.00000000e+00\n",
      "  0.00000000e+00 0.00000000e+00]\n",
      " [0.00000000e+00 0.00000000e+00 0.00000000e+00 0.00000000e+00\n",
      "  4.55882371e-01 9.04829353e-01 8.96368928e-01 8.48692793e-01\n",
      "  7.34277407e-01 7.28685553e-01 7.37581682e-01 8.21350725e-01\n",
      "  7.00108922e-01 2.15686283e-01 1.59767472e-03 2.54176034e-03\n",
      "  0.00000000e+00 0.00000000e+00]\n",
      " [0.00000000e+00 0.00000000e+00 3.32849205e-03 9.19753228e-02\n",
      "  3.29847474e-01 1.63882827e-01 2.48305473e-01 6.39433496e-02\n",
      "  2.56233357e-02 3.35850910e-01 8.66013723e-02 5.41878319e-02\n",
      "  1.49818453e-01 5.27886707e-01 2.88065869e-02 9.31976956e-04\n",
      "  0.00000000e+00 0.00000000e+00]\n",
      " [0.00000000e+00 0.00000000e+00 2.52965355e-03 1.14197545e-01\n",
      "  3.57298428e-01 6.17283712e-02 6.06874574e-02 5.70806599e-02\n",
      "  1.26615853e-01 8.55482694e-02 1.74292201e-02 4.39360702e-02\n",
      "  1.12273021e-01 4.92701508e-01 1.37037082e-01 2.39651250e-03\n",
      "  0.00000000e+00 0.00000000e+00]\n",
      " [0.00000000e+00 0.00000000e+00 3.05010852e-03 5.20806215e-01\n",
      "  6.48039216e-01 2.52069743e-01 2.27124121e-01 1.61437917e-01\n",
      "  1.80065359e-01 2.50217862e-01 1.37908547e-01 3.45533842e-01\n",
      "  7.26906380e-01 6.97058824e-01 5.61111237e-01 0.00000000e+00\n",
      "  0.00000000e+00 0.00000000e+00]\n",
      " [0.00000000e+00 0.00000000e+00 8.47249134e-05 1.99806374e-01\n",
      "  4.56535927e-01 1.42628871e-01 4.57516257e-03 4.57516007e-03\n",
      "  1.35524133e-01 1.07939980e-01 1.02759576e-02 2.09077768e-01\n",
      "  7.02130342e-01 3.23747306e-01 2.95098038e-01 7.45582479e-03\n",
      "  0.00000000e+00 0.00000000e+00]\n",
      " [0.00000000e+00 0.00000000e+00 1.52505426e-03 1.96102726e-01\n",
      "  4.63507686e-01 4.79750670e-01 1.57250053e-01 3.44662105e-01\n",
      "  1.16739175e-01 4.37085235e-01 2.45170556e-01 4.63156330e-01\n",
      "  6.95231222e-01 1.34204835e-01 5.00302726e-01 4.82087064e-02\n",
      "  0.00000000e+00 0.00000000e+00]\n",
      " [0.00000000e+00 0.00000000e+00 2.49201119e-01 5.55446419e-01\n",
      "  5.99346299e-01 5.26361533e-01 1.23529513e-01 7.78868079e-02\n",
      "  8.40958660e-02 9.85838556e-02 1.94989414e-02 2.44190210e-01\n",
      "  7.96223598e-01 4.50980314e-01 6.03558264e-01 3.01452775e-01\n",
      "  0.00000000e+00 0.00000000e+00]\n",
      " [0.00000000e+00 0.00000000e+00 2.16594027e-01 3.23649549e-02\n",
      "  6.14705925e-01 2.05155841e-02 6.46332978e-02 3.41830051e-01\n",
      "  1.00701981e-01 5.39215769e-02 7.80682588e-03 9.55580407e-02\n",
      "  2.19220527e-01 4.19281071e-01 8.11061024e-02 4.16969504e-01\n",
      "  0.00000000e+00 0.00000000e+00]\n",
      " [0.00000000e+00 0.00000000e+00 2.76301167e-01 2.53327671e-02\n",
      "  5.11220119e-01 1.91370028e-01 2.24001511e-01 5.13689112e-01\n",
      "  1.54865593e-01 2.01706562e-01 1.26107486e-01 2.13483405e-01\n",
      "  4.99878949e-01 5.18082862e-01 3.26337472e-01 2.91406580e-01\n",
      "  0.00000000e+00 0.00000000e+00]\n",
      " [0.00000000e+00 0.00000000e+00 0.00000000e+00 9.25925780e-03\n",
      "  8.16993152e-03 4.38235412e-01 3.46804604e-01 1.24945706e-01\n",
      "  9.33915185e-02 9.12855510e-02 1.19934732e-01 1.53921770e-01\n",
      "  8.26833882e-01 3.26798009e-03 1.81553341e-04 1.27087962e-03\n",
      "  0.00000000e+00 0.00000000e+00]\n",
      " [0.00000000e+00 0.00000000e+00 1.46453554e-03 2.26337342e-03\n",
      "  8.60566532e-03 2.79387576e-01 2.54199925e-01 1.23021078e-01\n",
      "  9.29677959e-02 5.46478354e-02 1.21968124e-01 1.32897736e-02\n",
      "  4.46332652e-01 5.77342463e-03 8.49672953e-03 1.86395620e-03\n",
      "  0.00000000e+00 0.00000000e+00]\n",
      " [0.00000000e+00 0.00000000e+00 0.00000000e+00 0.00000000e+00\n",
      "  5.44660232e-04 2.77208971e-01 7.39166282e-02 9.22292046e-03\n",
      "  5.78310329e-02 1.43815021e-01 1.89687793e-01 2.76083140e-02\n",
      "  1.92362625e-01 4.50980467e-02 1.06995924e-02 0.00000000e+00\n",
      "  0.00000000e+00 0.00000000e+00]\n",
      " [0.00000000e+00 0.00000000e+00 7.62527129e-04 1.12200457e-02\n",
      "  7.84313725e-03 8.50217950e-01 5.89215604e-01 4.32679636e-01\n",
      "  2.39760360e-01 1.84967325e-01 1.06862762e-01 1.12200434e-01\n",
      "  3.63507682e-01 8.13725490e-02 1.30718979e-02 7.62528064e-04\n",
      "  0.00000000e+00 0.00000000e+00]\n",
      " [0.00000000e+00 0.00000000e+00 0.00000000e+00 3.49794396e-03\n",
      "  5.44660232e-04 5.78201530e-01 6.71144431e-02 4.35728019e-03\n",
      "  3.83926298e-02 8.21108530e-02 2.43718266e-01 9.52432029e-02\n",
      "  3.23045238e-02 3.69280909e-02 2.05760578e-04 0.00000000e+00\n",
      "  0.00000000e+00 0.00000000e+00]\n",
      " [0.00000000e+00 0.00000000e+00 0.00000000e+00 2.26337342e-03\n",
      "  6.20915282e-03 6.40789192e-01 2.47990772e-01 1.53122663e-01\n",
      "  1.70539790e-01 1.76906236e-01 7.04430143e-02 2.56293831e-01\n",
      "  3.08460265e-01 2.40631709e-01 1.44033111e-03 0.00000000e+00\n",
      "  0.00000000e+00 0.00000000e+00]\n",
      " [0.00000000e+00 0.00000000e+00 1.99709683e-03 4.32098627e-03\n",
      "  7.87581986e-02 6.03159505e-01 2.64233687e-01 2.02069588e-01\n",
      "  6.50324855e-02 2.19861989e-01 8.75818315e-02 3.12999282e-01\n",
      "  3.41830152e-01 2.46732035e-01 0.00000000e+00 0.00000000e+00\n",
      "  0.00000000e+00 0.00000000e+00]\n",
      " [0.00000000e+00 0.00000000e+00 0.00000000e+00 7.40740907e-03\n",
      "  1.56863044e-02 2.43597110e-01 2.13338209e-01 2.86310865e-01\n",
      "  2.52420785e-01 3.34834017e-01 2.81445032e-01 3.52154398e-01\n",
      "  4.26361446e-01 2.11220072e-01 1.57346104e-04 1.10142813e-03\n",
      "  0.00000000e+00 0.00000000e+00]]\n"
     ]
    }
   ],
   "source": [
    "print(\"The range of pixel varies between 0 to 255\")\n",
    "print(\"The pixel having black is more close to 0 and pixel which is white is more close to 255\")\n",
    "print(x)"
   ]
  },
  {
   "cell_type": "code",
   "execution_count": 51,
   "metadata": {
    "colab": {
     "base_uri": "https://localhost:8080/",
     "height": 282
    },
    "id": "ivgbymIoj2_t",
    "outputId": "422fa8dd-da86-4949-c5b6-ab2fcac92be0"
   },
   "outputs": [
    {
     "data": {
      "text/plain": [
       "<matplotlib.image.AxesImage at 0x7fc36c308b50>"
      ]
     },
     "execution_count": 51,
     "metadata": {
      "tags": []
     },
     "output_type": "execute_result"
    },
    {
     "data": {
      "image/png": "[encoded data removed]",
      "text/plain": [
       "<Figure size 432x288 with 1 Axes>"
      ]
     },
     "metadata": {
      "needs_background": "light",
      "tags": []
     },
     "output_type": "display_data"
    }
   ],
   "source": [
    "plt.imshow(X_train_full[10])"
   ]
  },
  {
   "cell_type": "code",
   "execution_count": 52,
   "metadata": {
    "colab": {
     "base_uri": "https://localhost:8080/"
    },
    "id": "jeJadF2Jj2_u",
    "outputId": "7da3d70f-0741-4492-bc13-67495b5e3e11"
   },
   "outputs": [
    {
     "data": {
      "text/plain": [
       "0"
      ]
     },
     "execution_count": 52,
     "metadata": {
      "tags": []
     },
     "output_type": "execute_result"
    }
   ],
   "source": [
    "y_train_full[10]"
   ]
  },
  {
   "cell_type": "code",
   "execution_count": 8,
   "metadata": {
    "colab": {
     "base_uri": "https://localhost:8080/",
     "height": 282
    },
    "id": "SaRfz050j2_w",
    "outputId": "b5b8582b-fd68-4eb4-cc0a-45d8e5431700"
   },
   "outputs": [
    {
     "data": {
      "text/plain": [
       "<matplotlib.image.AxesImage at 0x7fc3734d9790>"
      ]
     },
     "execution_count": 8,
     "metadata": {
      "tags": []
     },
     "output_type": "execute_result"
    },
    {
     "data": {
      "image/png": "[encoded data removed]",
      "text/plain": [
       "<Figure size 432x288 with 1 Axes>"
      ]
     },
     "metadata": {
      "needs_background": "light",
      "tags": []
     },
     "output_type": "display_data"
    }
   ],
   "source": [
    "plt.imshow(X_train_full[0])"
   ]
  },
  {
   "cell_type": "code",
   "execution_count": 9,
   "metadata": {
    "colab": {
     "base_uri": "https://localhost:8080/"
    },
    "id": "VM_s5lU7j2_x",
    "outputId": "6aa19b84-d3ec-48d6-f161-cfeea0235854"
   },
   "outputs": [
    {
     "data": {
      "text/plain": [
       "9"
      ]
     },
     "execution_count": 9,
     "metadata": {
      "tags": []
     },
     "output_type": "execute_result"
    }
   ],
   "source": [
    "y_train_full[0]"
   ]
  },
  {
   "cell_type": "code",
   "execution_count": 10,
   "metadata": {
    "colab": {
     "base_uri": "https://localhost:8080/",
     "height": 282
    },
    "id": "QJlgP-Qnj2_y",
    "outputId": "0bc4b8de-acba-4ee1-cf19-0ef47b5e48e5"
   },
   "outputs": [
    {
     "data": {
      "text/plain": [
       "<matplotlib.image.AxesImage at 0x7fc372ffbd50>"
      ]
     },
     "execution_count": 10,
     "metadata": {
      "tags": []
     },
     "output_type": "execute_result"
    },
    {
     "data": {
      "image/png": "[encoded data removed]",
      "text/plain": [
       "<Figure size 432x288 with 1 Axes>"
      ]
     },
     "metadata": {
      "needs_background": "light",
      "tags": []
     },
     "output_type": "display_data"
    }
   ],
   "source": [
    "plt.imshow(X_train_full[1])"
   ]
  },
  {
   "cell_type": "code",
   "execution_count": 11,
   "metadata": {
    "colab": {
     "base_uri": "https://localhost:8080/"
    },
    "id": "8fIB772Sj2_0",
    "outputId": "50540a94-6b6c-4e53-fff2-95d0cef3ad19"
   },
   "outputs": [
    {
     "data": {
      "text/plain": [
       "0"
      ]
     },
     "execution_count": 11,
     "metadata": {
      "tags": []
     },
     "output_type": "execute_result"
    }
   ],
   "source": [
    "y_train_full[1]"
   ]
  },
  {
   "cell_type": "code",
   "execution_count": 12,
   "metadata": {
    "colab": {
     "base_uri": "https://localhost:8080/",
     "height": 282
    },
    "id": "tTMM9ghFj2_1",
    "outputId": "4a130d45-b1d9-4b99-e3af-5edfbb81267b"
   },
   "outputs": [
    {
     "data": {
      "text/plain": [
       "<matplotlib.image.AxesImage at 0x7fc372fd8f90>"
      ]
     },
     "execution_count": 12,
     "metadata": {
      "tags": []
     },
     "output_type": "execute_result"
    },
    {
     "data": {
      "image/png": "[encoded data removed]",
      "text/plain": [
       "<Figure size 432x288 with 1 Axes>"
      ]
     },
     "metadata": {
      "needs_background": "light",
      "tags": []
     },
     "output_type": "display_data"
    }
   ],
   "source": [
    "plt.imshow(X_train_full[5])"
   ]
  },
  {
   "cell_type": "code",
   "execution_count": 13,
   "metadata": {
    "colab": {
     "base_uri": "https://localhost:8080/"
    },
    "id": "MNjxeXs0j2_2",
    "outputId": "76ebecd8-d578-46ad-863d-f01671b68f7b"
   },
   "outputs": [
    {
     "data": {
      "text/plain": [
       "2"
      ]
     },
     "execution_count": 13,
     "metadata": {
      "tags": []
     },
     "output_type": "execute_result"
    }
   ],
   "source": [
    "y_train_full[5]"
   ]
  },
  {
   "cell_type": "code",
   "execution_count": 14,
   "metadata": {
    "id": "gJqRfDlrj2_4"
   },
   "outputs": [],
   "source": [
    "class_names = [\"T-shirt/top\", \"Trouser\", \"Pullover\", \"Dress\", \"Coat\",\n",
    "               \"Sandal\", \"Shirt\", \"Sneaker\", \"Bag\", \"Ankle boot\"]"
   ]
  },
  {
   "cell_type": "code",
   "execution_count": 15,
   "metadata": {
    "colab": {
     "base_uri": "https://localhost:8080/",
     "height": 35
    },
    "id": "LvDFYR9Gj2_5",
    "outputId": "deea5a5c-bfb8-4d59-fb11-b832c7a6867d"
   },
   "outputs": [
    {
     "data": {
      "application/vnd.google.colaboratory.intrinsic+json": {
       "type": "string"
      },
      "text/plain": [
       "'T-shirt/top'"
      ]
     },
     "execution_count": 15,
     "metadata": {
      "tags": []
     },
     "output_type": "execute_result"
    }
   ],
   "source": [
    "class_names[y_train_full[10]]"
   ]
  },
  {
   "cell_type": "code",
   "execution_count": 16,
   "metadata": {
    "colab": {
     "base_uri": "https://localhost:8080/",
     "height": 282
    },
    "id": "3tmWONG8j2_6",
    "outputId": "f8a197ac-005e-4298-bc26-c8a6f9c2b69a"
   },
   "outputs": [
    {
     "data": {
      "text/plain": [
       "<matplotlib.image.AxesImage at 0x7fc372fb4bd0>"
      ]
     },
     "execution_count": 16,
     "metadata": {
      "tags": []
     },
     "output_type": "execute_result"
    },
    {
     "data": {
      "image/png": "[encoded data removed]",
      "text/plain": [
       "<Figure size 432x288 with 1 Axes>"
      ]
     },
     "metadata": {
      "needs_background": "light",
      "tags": []
     },
     "output_type": "display_data"
    }
   ],
   "source": [
    "plt.imshow(X_train_full[10])"
   ]
  },
  {
   "cell_type": "markdown",
   "metadata": {
    "id": "ZgnM6p_Tj2_7"
   },
   "source": [
    "#### X_train_full[10] is giving information abour the 28*28 pixel of image present at index 10 in x_train_full data. where in result we will find the pixel value in first row (28 pixel), 2nd row (28 pixel) upto 28 row (28 pixel). pixel value 0 indicate pixel is black and 255 indicate pixel is white"
   ]
  },
  {
   "cell_type": "code",
   "execution_count": 17,
   "metadata": {
    "colab": {
     "base_uri": "https://localhost:8080/"
    },
    "id": "0j4wsep2j2_8",
    "outputId": "4143b673-754a-4296-b61f-d4a5a76dface"
   },
   "outputs": [
    {
     "data": {
      "text/plain": [
       "array([[  0,   0,   0,   0,   0,   0,   0,  11, 142, 200, 106,   0,   0,\n",
       "          0,   0,   0,   0,   0,  85, 185, 112,   0,   0,   0,   0,   0,\n",
       "          0,   0],\n",
       "       [  0,   0,   0,   0,   0,   0, 152, 214, 217, 194, 236, 216, 187,\n",
       "        149, 135, 153, 211, 217, 231, 205, 217, 188,  34,   0,   0,   0,\n",
       "          0,   0],\n",
       "       [  0,   0,   0,   0,   0,  66, 185, 166, 180, 181, 190, 211, 221,\n",
       "        197, 146, 198, 206, 191, 168, 190, 172, 188, 175,   0,   0,   0,\n",
       "          0,   0],\n",
       "       [  0,   0,   0,   0,   0, 135, 153, 160, 175, 180, 170, 186, 187,\n",
       "        190, 188, 190, 187, 174, 195, 185, 174, 161, 175,  59,   0,   0,\n",
       "          0,   0],\n",
       "       [  0,   0,   0,   0,   0, 161, 147, 160, 170, 178, 177, 180, 168,\n",
       "        173, 174, 171, 185, 184, 185, 172, 171, 164, 174, 120,   0,   0,\n",
       "          0,   0],\n",
       "       [  0,   0,   0,   0,   2, 175, 146, 145, 168, 178, 181, 185, 180,\n",
       "        184, 178, 179, 187, 191, 193, 190, 181, 171, 172, 158,   0,   0,\n",
       "          0,   0],\n",
       "       [  0,   0,   0,   0,  35, 177, 155, 140, 151, 172, 191, 187, 186,\n",
       "        187, 186, 187, 182, 191, 194, 188, 180, 161, 161, 185,   0,   0,\n",
       "          0,   0],\n",
       "       [  0,   0,   0,   0,  59, 170, 153, 141, 120, 154, 160, 161, 172,\n",
       "        168, 166, 161, 165, 172, 170, 164, 139, 149, 162, 166,  21,   0,\n",
       "          0,   0],\n",
       "       [  0,   0,   0,   0,  79, 145, 160, 214, 123, 128, 153, 160, 164,\n",
       "        158, 157, 154, 155, 170, 165, 141, 195, 193, 152, 166,  61,   0,\n",
       "          0,   0],\n",
       "       [  0,   0,   0,   0, 100, 157, 225, 245, 175, 113, 174, 158, 158,\n",
       "        160, 155, 160, 164, 178, 188, 135, 185, 240, 201, 172, 108,   0,\n",
       "          0,   0],\n",
       "       [  0,   0,   0,   0,   0,  31, 174,  28, 126, 153, 166, 152, 158,\n",
       "        158, 160, 161, 157, 168, 191, 188,  18, 132, 159,   7,   0,   0,\n",
       "          0,   0],\n",
       "       [  0,   0,   0,   0,   0,   0,   0,   0,  82, 187, 159, 153, 157,\n",
       "        158, 162, 164, 164, 154, 187, 190,   0,   0,   0,   0,   0,   0,\n",
       "          0,   0],\n",
       "       [  0,   0,   0,   0,   1,   3,   5,   0,  37, 175, 158, 155, 162,\n",
       "        158, 160, 162, 165, 153, 177, 205,   0,   0,   3,   3,   0,   0,\n",
       "          0,   0],\n",
       "       [  0,   0,   0,   0,   0,   0,   1,   0,  25, 175, 152, 160, 158,\n",
       "        161, 160, 164, 164, 161, 166, 200,   0,   0,   1,   0,   0,   0,\n",
       "          0,   0],\n",
       "       [  0,   0,   0,   0,   0,   0,   4,   0,  30, 171, 147, 164, 155,\n",
       "        165, 161, 165, 162, 170, 164, 162,   0,   0,   2,   0,   0,   0,\n",
       "          0,   0],\n",
       "       [  0,   0,   0,   0,   0,   0,   4,   0,  57, 166, 155, 164, 166,\n",
       "        161, 161, 164, 167, 165, 165, 162,  28,   0,   3,   0,   0,   0,\n",
       "          0,   0],\n",
       "       [  0,   0,   0,   0,   0,   0,   3,   0, 114, 161, 161, 166, 159,\n",
       "        168, 161, 161, 172, 162, 165, 171,  50,   0,   5,   0,   0,   0,\n",
       "          0,   0],\n",
       "       [  0,   0,   0,   0,   0,   0,   1,   0, 149, 157, 167, 172, 159,\n",
       "        172, 164, 161, 172, 170, 160, 171,  89,   0,   4,   0,   0,   0,\n",
       "          0,   0],\n",
       "       [  0,   0,   0,   0,   0,   2,   0,   4, 171, 164, 166, 173, 159,\n",
       "        179, 166, 160, 174, 167, 162, 166, 128,   0,   2,   0,   0,   0,\n",
       "          0,   0],\n",
       "       [  0,   0,   0,   0,   0,   3,   0,  18, 152, 173, 160, 179, 154,\n",
       "        181, 166, 164, 175, 170, 166, 170, 164,   0,   0,   1,   0,   0,\n",
       "          0,   0],\n",
       "       [  0,   0,   0,   0,   0,   4,   0,  47, 165, 172, 167, 185, 153,\n",
       "        187, 173, 165, 174, 179, 166, 166, 158,   5,   0,   3,   0,   0,\n",
       "          0,   0],\n",
       "       [  0,   0,   0,   0,   0,   4,   0,  87, 180, 162, 179, 179, 157,\n",
       "        191, 182, 165, 168, 190, 173, 165, 166,  20,   0,   4,   0,   0,\n",
       "          0,   0],\n",
       "       [  0,   0,   0,   0,   0,   4,   0, 105, 187, 157, 194, 175, 161,\n",
       "        190, 184, 170, 158, 205, 177, 168, 171,  44,   0,   4,   0,   0,\n",
       "          0,   0],\n",
       "       [  0,   0,   0,   0,   0,   5,   0, 138, 181, 158, 205, 160, 167,\n",
       "        190, 198, 167, 152, 218, 186, 170, 172,  57,   0,   5,   0,   0,\n",
       "          0,   0],\n",
       "       [  0,   0,   0,   0,   0,   5,   0, 135, 174, 167, 199, 155, 166,\n",
       "        201, 219, 165, 158, 218, 188, 167, 175,  56,   0,   7,   0,   0,\n",
       "          0,   0],\n",
       "       [  0,   0,   0,   0,   0,   5,   0, 129, 171, 172, 177, 153, 159,\n",
       "        206, 216, 148, 157, 206, 190, 165, 175,  48,   0,   5,   0,   0,\n",
       "          0,   0],\n",
       "       [  0,   0,   0,   0,   0,   5,   0, 167, 187, 182, 198, 194, 200,\n",
       "        226, 240, 184, 206, 255, 197, 178, 179,  42,   0,   5,   0,   0,\n",
       "          0,   0],\n",
       "       [  0,   0,   0,   0,   0,   3,   0, 115, 135, 113, 106,  85,  82,\n",
       "        108, 133,  83,  90, 121, 120, 110, 158,  18,   0,   3,   0,   0,\n",
       "          0,   0]], dtype=uint8)"
      ]
     },
     "execution_count": 17,
     "metadata": {
      "tags": []
     },
     "output_type": "execute_result"
    }
   ],
   "source": [
    "X_train_full[10]"
   ]
  },
  {
   "cell_type": "markdown",
   "metadata": {
    "id": "P7ZeJhWjj2_9"
   },
   "source": [
    "### Data normalization\n",
    "We then normalize the data dimensions so that they are of approximately the same scale."
   ]
  },
  {
   "cell_type": "markdown",
   "metadata": {
    "id": "H0lcyyLJj2_-"
   },
   "source": [
    "#### Here we have normalize the data by dividing 255. ( float value bcoz to make compatible with python version) bcoz here we know pixel value is in between 0 & 255. so use this method of division by 255. But when we dont he lmit of data range hen we will standardization method for data normalization where we wiil find and standard deviation for the process"
   ]
  },
  {
   "cell_type": "code",
   "execution_count": 18,
   "metadata": {
    "id": "beQO3eXvj2__"
   },
   "outputs": [],
   "source": [
    "X_train_n = X_train_full / 255.\n",
    "X_test_n = X_test / 255."
   ]
  },
  {
   "cell_type": "markdown",
   "metadata": {
    "id": "YuRz3jAWj3AA"
   },
   "source": [
    "### Split the data into train/validation/test datasets\n",
    "In the earlier step of importing the date, we had 60,000 datasets for training and 10,000 test datasets. Now we further split the training data into train/validation. Here is how each type of dateset is used in deep learning:\n",
    "\n",
    "* __Training data__ — used for training the model\n",
    "* __Validation data__ — used for tuning the hyperparameters and evaluate the models\n",
    "* __Test data__ — used to test the model after the model has gone through initial vetting by the validation set."
   ]
  },
  {
   "cell_type": "code",
   "execution_count": 20,
   "metadata": {
    "id": "wroEx5azj3AC"
   },
   "outputs": [],
   "source": [
    "X_valid, X_train = X_train_n[:5000], X_train_n[5000:]\n",
    "y_valid, y_train = y_train_full[:5000], y_train_full[5000:]\n",
    "X_test = X_test_n"
   ]
  },
  {
   "cell_type": "code",
   "execution_count": 21,
   "metadata": {
    "colab": {
     "base_uri": "https://localhost:8080/"
    },
    "id": "YIVjJb_zj3AD",
    "outputId": "cd958016-986d-44b3-9aa6-8db964d8f47f"
   },
   "outputs": [
    {
     "data": {
      "text/plain": [
       "array([[0.        , 0.        , 0.        , 0.        , 0.        ,\n",
       "        0.        , 0.        , 0.        , 0.        , 0.        ,\n",
       "        0.        , 0.        , 0.        , 0.        , 0.        ,\n",
       "        0.        , 0.        , 0.        , 0.        , 0.        ,\n",
       "        0.        , 0.        , 0.        , 0.        , 0.        ,\n",
       "        0.        , 0.        , 0.        ],\n",
       "       [0.        , 0.        , 0.        , 0.        , 0.        ,\n",
       "        0.        , 0.        , 0.        , 0.        , 0.        ,\n",
       "        0.        , 0.        , 0.        , 0.        , 0.        ,\n",
       "        0.        , 0.        , 0.        , 0.        , 0.        ,\n",
       "        0.        , 0.        , 0.        , 0.        , 0.        ,\n",
       "        0.        , 0.        , 0.        ],\n",
       "       [0.        , 0.        , 0.        , 0.        , 0.        ,\n",
       "        0.        , 0.        , 0.        , 0.        , 0.        ,\n",
       "        0.        , 0.        , 0.        , 0.        , 0.        ,\n",
       "        0.        , 0.        , 0.        , 0.        , 0.        ,\n",
       "        0.        , 0.        , 0.        , 0.        , 0.        ,\n",
       "        0.        , 0.        , 0.        ],\n",
       "       [0.        , 0.        , 0.        , 0.        , 0.        ,\n",
       "        0.        , 0.        , 0.        , 0.        , 0.        ,\n",
       "        0.        , 0.        , 0.00392157, 0.        , 0.        ,\n",
       "        0.05098039, 0.28627451, 0.        , 0.        , 0.00392157,\n",
       "        0.01568627, 0.        , 0.        , 0.        , 0.        ,\n",
       "        0.00392157, 0.00392157, 0.        ],\n",
       "       [0.        , 0.        , 0.        , 0.        , 0.        ,\n",
       "        0.        , 0.        , 0.        , 0.        , 0.        ,\n",
       "        0.        , 0.        , 0.01176471, 0.        , 0.14117647,\n",
       "        0.53333333, 0.49803922, 0.24313725, 0.21176471, 0.        ,\n",
       "        0.        , 0.        , 0.00392157, 0.01176471, 0.01568627,\n",
       "        0.        , 0.        , 0.01176471],\n",
       "       [0.        , 0.        , 0.        , 0.        , 0.        ,\n",
       "        0.        , 0.        , 0.        , 0.        , 0.        ,\n",
       "        0.        , 0.        , 0.02352941, 0.        , 0.4       ,\n",
       "        0.8       , 0.69019608, 0.5254902 , 0.56470588, 0.48235294,\n",
       "        0.09019608, 0.        , 0.        , 0.        , 0.        ,\n",
       "        0.04705882, 0.03921569, 0.        ],\n",
       "       [0.        , 0.        , 0.        , 0.        , 0.        ,\n",
       "        0.        , 0.        , 0.        , 0.        , 0.        ,\n",
       "        0.        , 0.        , 0.        , 0.        , 0.60784314,\n",
       "        0.9254902 , 0.81176471, 0.69803922, 0.41960784, 0.61176471,\n",
       "        0.63137255, 0.42745098, 0.25098039, 0.09019608, 0.30196078,\n",
       "        0.50980392, 0.28235294, 0.05882353],\n",
       "       [0.        , 0.        , 0.        , 0.        , 0.        ,\n",
       "        0.        , 0.        , 0.        , 0.        , 0.        ,\n",
       "        0.        , 0.00392157, 0.        , 0.27058824, 0.81176471,\n",
       "        0.8745098 , 0.85490196, 0.84705882, 0.84705882, 0.63921569,\n",
       "        0.49803922, 0.4745098 , 0.47843137, 0.57254902, 0.55294118,\n",
       "        0.34509804, 0.6745098 , 0.25882353],\n",
       "       [0.        , 0.        , 0.        , 0.        , 0.        ,\n",
       "        0.        , 0.        , 0.        , 0.        , 0.00392157,\n",
       "        0.00392157, 0.00392157, 0.        , 0.78431373, 0.90980392,\n",
       "        0.90980392, 0.91372549, 0.89803922, 0.8745098 , 0.8745098 ,\n",
       "        0.84313725, 0.83529412, 0.64313725, 0.49803922, 0.48235294,\n",
       "        0.76862745, 0.89803922, 0.        ],\n",
       "       [0.        , 0.        , 0.        , 0.        , 0.        ,\n",
       "        0.        , 0.        , 0.        , 0.        , 0.        ,\n",
       "        0.        , 0.        , 0.        , 0.71764706, 0.88235294,\n",
       "        0.84705882, 0.8745098 , 0.89411765, 0.92156863, 0.89019608,\n",
       "        0.87843137, 0.87058824, 0.87843137, 0.86666667, 0.8745098 ,\n",
       "        0.96078431, 0.67843137, 0.        ],\n",
       "       [0.        , 0.        , 0.        , 0.        , 0.        ,\n",
       "        0.        , 0.        , 0.        , 0.        , 0.        ,\n",
       "        0.        , 0.        , 0.        , 0.75686275, 0.89411765,\n",
       "        0.85490196, 0.83529412, 0.77647059, 0.70588235, 0.83137255,\n",
       "        0.82352941, 0.82745098, 0.83529412, 0.8745098 , 0.8627451 ,\n",
       "        0.95294118, 0.79215686, 0.        ],\n",
       "       [0.        , 0.        , 0.        , 0.        , 0.        ,\n",
       "        0.        , 0.        , 0.        , 0.        , 0.00392157,\n",
       "        0.01176471, 0.        , 0.04705882, 0.85882353, 0.8627451 ,\n",
       "        0.83137255, 0.85490196, 0.75294118, 0.6627451 , 0.89019608,\n",
       "        0.81568627, 0.85490196, 0.87843137, 0.83137255, 0.88627451,\n",
       "        0.77254902, 0.81960784, 0.20392157],\n",
       "       [0.        , 0.        , 0.        , 0.        , 0.        ,\n",
       "        0.        , 0.        , 0.        , 0.        , 0.        ,\n",
       "        0.02352941, 0.        , 0.38823529, 0.95686275, 0.87058824,\n",
       "        0.8627451 , 0.85490196, 0.79607843, 0.77647059, 0.86666667,\n",
       "        0.84313725, 0.83529412, 0.87058824, 0.8627451 , 0.96078431,\n",
       "        0.46666667, 0.65490196, 0.21960784],\n",
       "       [0.        , 0.        , 0.        , 0.        , 0.        ,\n",
       "        0.        , 0.        , 0.        , 0.        , 0.01568627,\n",
       "        0.        , 0.        , 0.21568627, 0.9254902 , 0.89411765,\n",
       "        0.90196078, 0.89411765, 0.94117647, 0.90980392, 0.83529412,\n",
       "        0.85490196, 0.8745098 , 0.91764706, 0.85098039, 0.85098039,\n",
       "        0.81960784, 0.36078431, 0.        ],\n",
       "       [0.        , 0.        , 0.00392157, 0.01568627, 0.02352941,\n",
       "        0.02745098, 0.00784314, 0.        , 0.        , 0.        ,\n",
       "        0.        , 0.        , 0.92941176, 0.88627451, 0.85098039,\n",
       "        0.8745098 , 0.87058824, 0.85882353, 0.87058824, 0.86666667,\n",
       "        0.84705882, 0.8745098 , 0.89803922, 0.84313725, 0.85490196,\n",
       "        1.        , 0.30196078, 0.        ],\n",
       "       [0.        , 0.01176471, 0.        , 0.        , 0.        ,\n",
       "        0.        , 0.        , 0.        , 0.        , 0.24313725,\n",
       "        0.56862745, 0.8       , 0.89411765, 0.81176471, 0.83529412,\n",
       "        0.86666667, 0.85490196, 0.81568627, 0.82745098, 0.85490196,\n",
       "        0.87843137, 0.8745098 , 0.85882353, 0.84313725, 0.87843137,\n",
       "        0.95686275, 0.62352941, 0.        ],\n",
       "       [0.        , 0.        , 0.        , 0.        , 0.07058824,\n",
       "        0.17254902, 0.32156863, 0.41960784, 0.74117647, 0.89411765,\n",
       "        0.8627451 , 0.87058824, 0.85098039, 0.88627451, 0.78431373,\n",
       "        0.80392157, 0.82745098, 0.90196078, 0.87843137, 0.91764706,\n",
       "        0.69019608, 0.7372549 , 0.98039216, 0.97254902, 0.91372549,\n",
       "        0.93333333, 0.84313725, 0.        ],\n",
       "       [0.        , 0.22352941, 0.73333333, 0.81568627, 0.87843137,\n",
       "        0.86666667, 0.87843137, 0.81568627, 0.8       , 0.83921569,\n",
       "        0.81568627, 0.81960784, 0.78431373, 0.62352941, 0.96078431,\n",
       "        0.75686275, 0.80784314, 0.8745098 , 1.        , 1.        ,\n",
       "        0.86666667, 0.91764706, 0.86666667, 0.82745098, 0.8627451 ,\n",
       "        0.90980392, 0.96470588, 0.        ],\n",
       "       [0.01176471, 0.79215686, 0.89411765, 0.87843137, 0.86666667,\n",
       "        0.82745098, 0.82745098, 0.83921569, 0.80392157, 0.80392157,\n",
       "        0.80392157, 0.8627451 , 0.94117647, 0.31372549, 0.58823529,\n",
       "        1.        , 0.89803922, 0.86666667, 0.7372549 , 0.60392157,\n",
       "        0.74901961, 0.82352941, 0.8       , 0.81960784, 0.87058824,\n",
       "        0.89411765, 0.88235294, 0.        ],\n",
       "       [0.38431373, 0.91372549, 0.77647059, 0.82352941, 0.87058824,\n",
       "        0.89803922, 0.89803922, 0.91764706, 0.97647059, 0.8627451 ,\n",
       "        0.76078431, 0.84313725, 0.85098039, 0.94509804, 0.25490196,\n",
       "        0.28627451, 0.41568627, 0.45882353, 0.65882353, 0.85882353,\n",
       "        0.86666667, 0.84313725, 0.85098039, 0.8745098 , 0.8745098 ,\n",
       "        0.87843137, 0.89803922, 0.11372549],\n",
       "       [0.29411765, 0.8       , 0.83137255, 0.8       , 0.75686275,\n",
       "        0.80392157, 0.82745098, 0.88235294, 0.84705882, 0.7254902 ,\n",
       "        0.77254902, 0.80784314, 0.77647059, 0.83529412, 0.94117647,\n",
       "        0.76470588, 0.89019608, 0.96078431, 0.9372549 , 0.8745098 ,\n",
       "        0.85490196, 0.83137255, 0.81960784, 0.87058824, 0.8627451 ,\n",
       "        0.86666667, 0.90196078, 0.2627451 ],\n",
       "       [0.18823529, 0.79607843, 0.71764706, 0.76078431, 0.83529412,\n",
       "        0.77254902, 0.7254902 , 0.74509804, 0.76078431, 0.75294118,\n",
       "        0.79215686, 0.83921569, 0.85882353, 0.86666667, 0.8627451 ,\n",
       "        0.9254902 , 0.88235294, 0.84705882, 0.78039216, 0.80784314,\n",
       "        0.72941176, 0.70980392, 0.69411765, 0.6745098 , 0.70980392,\n",
       "        0.80392157, 0.80784314, 0.45098039],\n",
       "       [0.        , 0.47843137, 0.85882353, 0.75686275, 0.70196078,\n",
       "        0.67058824, 0.71764706, 0.76862745, 0.8       , 0.82352941,\n",
       "        0.83529412, 0.81176471, 0.82745098, 0.82352941, 0.78431373,\n",
       "        0.76862745, 0.76078431, 0.74901961, 0.76470588, 0.74901961,\n",
       "        0.77647059, 0.75294118, 0.69019608, 0.61176471, 0.65490196,\n",
       "        0.69411765, 0.82352941, 0.36078431],\n",
       "       [0.        , 0.        , 0.29019608, 0.74117647, 0.83137255,\n",
       "        0.74901961, 0.68627451, 0.6745098 , 0.68627451, 0.70980392,\n",
       "        0.7254902 , 0.7372549 , 0.74117647, 0.7372549 , 0.75686275,\n",
       "        0.77647059, 0.8       , 0.81960784, 0.82352941, 0.82352941,\n",
       "        0.82745098, 0.7372549 , 0.7372549 , 0.76078431, 0.75294118,\n",
       "        0.84705882, 0.66666667, 0.        ],\n",
       "       [0.00784314, 0.        , 0.        , 0.        , 0.25882353,\n",
       "        0.78431373, 0.87058824, 0.92941176, 0.9372549 , 0.94901961,\n",
       "        0.96470588, 0.95294118, 0.95686275, 0.86666667, 0.8627451 ,\n",
       "        0.75686275, 0.74901961, 0.70196078, 0.71372549, 0.71372549,\n",
       "        0.70980392, 0.69019608, 0.65098039, 0.65882353, 0.38823529,\n",
       "        0.22745098, 0.        , 0.        ],\n",
       "       [0.        , 0.        , 0.        , 0.        , 0.        ,\n",
       "        0.        , 0.        , 0.15686275, 0.23921569, 0.17254902,\n",
       "        0.28235294, 0.16078431, 0.1372549 , 0.        , 0.        ,\n",
       "        0.        , 0.        , 0.        , 0.        , 0.        ,\n",
       "        0.        , 0.        , 0.        , 0.        , 0.        ,\n",
       "        0.        , 0.        , 0.        ],\n",
       "       [0.        , 0.        , 0.        , 0.        , 0.        ,\n",
       "        0.        , 0.        , 0.        , 0.        , 0.        ,\n",
       "        0.        , 0.        , 0.        , 0.        , 0.        ,\n",
       "        0.        , 0.        , 0.        , 0.        , 0.        ,\n",
       "        0.        , 0.        , 0.        , 0.        , 0.        ,\n",
       "        0.        , 0.        , 0.        ],\n",
       "       [0.        , 0.        , 0.        , 0.        , 0.        ,\n",
       "        0.        , 0.        , 0.        , 0.        , 0.        ,\n",
       "        0.        , 0.        , 0.        , 0.        , 0.        ,\n",
       "        0.        , 0.        , 0.        , 0.        , 0.        ,\n",
       "        0.        , 0.        , 0.        , 0.        , 0.        ,\n",
       "        0.        , 0.        , 0.        ]])"
      ]
     },
     "execution_count": 21,
     "metadata": {
      "tags": []
     },
     "output_type": "execute_result"
    }
   ],
   "source": [
    "X_valid[0]"
   ]
  },
  {
   "cell_type": "markdown",
   "metadata": {
    "id": "_pTRw31Rj3AE"
   },
   "source": [
    "### Create the model architecture\n",
    "There are two APIs for defining a model in Keras:\n",
    "* Sequential model API\n",
    "* Functional API"
   ]
  },
  {
   "cell_type": "markdown",
   "metadata": {
    "id": "_zw9F6g5j3AF"
   },
   "source": [
    "![](1.png)"
   ]
  },
  {
   "cell_type": "markdown",
   "metadata": {
    "id": "CwjmlkKYj3AF"
   },
   "source": [
    "![](Functional.JPG \"Title\")"
   ]
  },
  {
   "cell_type": "markdown",
   "metadata": {
    "id": "o2YX1iLQj3AG"
   },
   "source": [
    "# np.random.seed(42)\n",
    "tf.random.set_seed(42)\n",
    " by using random.seed everytime we run the code we will get same set of training and test distribution so that we will get same result display everytime we run the code"
   ]
  },
  {
   "cell_type": "code",
   "execution_count": 24,
   "metadata": {
    "id": "Kd0M1wRgj3AH"
   },
   "outputs": [],
   "source": [
    "np.random.seed(42)\n",
    "#tf.random.set_random_seed(42)\n",
    "tf.random.set_seed(42)\n",
    "#tf.random.set_seed(42)"
   ]
  },
  {
   "cell_type": "markdown",
   "metadata": {
    "id": "fe2w3M59j3AI"
   },
   "source": [
    "![](Structure.jpg \"Title\")"
   ]
  },
  {
   "cell_type": "markdown",
   "metadata": {
    "id": "Pgk0JXh2j3AJ"
   },
   "source": [
    "# MODEL DESIGNING"
   ]
  },
  {
   "cell_type": "markdown",
   "metadata": {
    "id": "hCchiNO4j3AJ"
   },
   "source": [
    "### Keras is high end library used for designing model such as number of layer , number of neuron per layer, loss function, optimizer , activation function , evaluation metrics etc"
   ]
  },
  {
   "cell_type": "markdown",
   "metadata": {
    "id": "bPJdLQa-j3AK"
   },
   "source": [
    "### Tensorflow, Theano and CNTK is lower level libray which is completely responible for high level  mathematical operations.Tensorflow, Theano and CNTK work under keras library very efficiently for smooth oprrations "
   ]
  },
  {
   "cell_type": "markdown",
   "metadata": {
    "id": "JJ_qT3DYj3AL"
   },
   "source": [
    "# 1. Create Model"
   ]
  },
  {
   "cell_type": "code",
   "execution_count": 25,
   "metadata": {
    "id": "tYv3cOPuj3AM"
   },
   "outputs": [],
   "source": [
    "model = keras.models.Sequential()\n",
    "model.add(keras.layers.Flatten(input_shape=[28, 28]))\n",
    "model.add(keras.layers.Dense(300, activation=\"relu\"))\n",
    "model.add(keras.layers.Dense(100, activation=\"relu\"))\n",
    "\n",
    "model.add(keras.layers.Dense(10, activation=\"softmax\"))"
   ]
  },
  {
   "cell_type": "markdown",
   "metadata": {
    "id": "otE3byQYj3AN"
   },
   "source": [
    "# model summary will give infoarmation about Trainable and non trainable parameters per layers.\n",
    "\n",
    "Trainnable parameters are Weight and Biases.\n",
    "\n",
    "Ex: Flatten layer is having 784 input.\n",
    "    Next layer is Dense layer having 300 neuron. So in this layer total number of Trainable parameters are\n",
    "    \n",
    "    784 *300 +300=235500 (784 are input features and 300 are nueron so weight is associated with each input feauture 784*300) \n",
    "    \n",
    "    Hence total number of weights = 784*300\n",
    "    Total number of biases =300 ( one bias per nueron)"
   ]
  },
  {
   "cell_type": "code",
   "execution_count": 26,
   "metadata": {
    "colab": {
     "base_uri": "https://localhost:8080/"
    },
    "id": "0_YHXI3Mj3AO",
    "outputId": "c930cda5-34f5-4cea-e5e5-e2a973a342c2"
   },
   "outputs": [
    {
     "name": "stdout",
     "output_type": "stream",
     "text": [
      "Model: \"sequential\"\n",
      "_________________________________________________________________\n",
      "Layer (type)                 Output Shape              Param #   \n",
      "=================================================================\n",
      "flatten (Flatten)            (None, 784)               0         \n",
      "_________________________________________________________________\n",
      "dense (Dense)                (None, 300)               235500    \n",
      "_________________________________________________________________\n",
      "dense_1 (Dense)              (None, 100)               30100     \n",
      "_________________________________________________________________\n",
      "dense_2 (Dense)              (None, 10)                1010      \n",
      "=================================================================\n",
      "Total params: 266,610\n",
      "Trainable params: 266,610\n",
      "Non-trainable params: 0\n",
      "_________________________________________________________________\n"
     ]
    }
   ],
   "source": [
    "model.summary()"
   ]
  },
  {
   "cell_type": "code",
   "execution_count": 26,
   "metadata": {
    "id": "61blmvt9j3AP"
   },
   "outputs": [],
   "source": []
  },
  {
   "cell_type": "code",
   "execution_count": 27,
   "metadata": {
    "colab": {
     "base_uri": "https://localhost:8080/",
     "height": 466
    },
    "id": "hdZQ8sQ3j3AQ",
    "outputId": "3b51126f-ff15-493a-f35e-1c8286e12600"
   },
   "outputs": [
    {
     "data": {
      "image/png": "[encoded data removed]",
      "text/plain": [
       "<IPython.core.display.Image object>"
      ]
     },
     "execution_count": 27,
     "metadata": {
      "tags": []
     },
     "output_type": "execute_result"
    }
   ],
   "source": [
    "import pydot\n",
    "keras.utils.plot_model(model)"
   ]
  },
  {
   "cell_type": "markdown",
   "metadata": {
    "id": "3RlGjYzVj3AR"
   },
   "source": [
    "We can access the parameters using get_weight() method"
   ]
  },
  {
   "cell_type": "code",
   "execution_count": 28,
   "metadata": {
    "id": "WiwyVWAej3AR"
   },
   "outputs": [],
   "source": [
    "weights, biases = model.layers[1].get_weights()"
   ]
  },
  {
   "cell_type": "code",
   "execution_count": 29,
   "metadata": {
    "colab": {
     "base_uri": "https://localhost:8080/"
    },
    "id": "zkxd5521j3AS",
    "outputId": "b7637665-dcd0-4b05-c779-817cffe8ca13"
   },
   "outputs": [
    {
     "data": {
      "text/plain": [
       "array([[ 0.02448617, -0.00877795, -0.02189048, ..., -0.02766046,\n",
       "         0.03859074, -0.06889391],\n",
       "       [ 0.00476504, -0.03105379, -0.0586676 , ...,  0.00602964,\n",
       "        -0.02763776, -0.04165364],\n",
       "       [-0.06189284, -0.06901957,  0.07102345, ..., -0.04238207,\n",
       "         0.07121518, -0.07331658],\n",
       "       ...,\n",
       "       [-0.03048757,  0.02155137, -0.05400612, ..., -0.00113463,\n",
       "         0.00228987,  0.05581069],\n",
       "       [ 0.07061854, -0.06960931,  0.07038955, ..., -0.00384101,\n",
       "         0.00034875,  0.02878492],\n",
       "       [-0.06022581,  0.01577859, -0.02585464, ..., -0.00527829,\n",
       "         0.00272203, -0.06793761]], dtype=float32)"
      ]
     },
     "execution_count": 29,
     "metadata": {
      "tags": []
     },
     "output_type": "execute_result"
    }
   ],
   "source": [
    "weights"
   ]
  },
  {
   "cell_type": "code",
   "execution_count": 30,
   "metadata": {
    "colab": {
     "base_uri": "https://localhost:8080/"
    },
    "id": "FIPkmSW-j3AT",
    "outputId": "504cbba2-0e62-4942-c6ef-53b10f5f7384"
   },
   "outputs": [
    {
     "data": {
      "text/plain": [
       "(784, 300)"
      ]
     },
     "execution_count": 30,
     "metadata": {
      "tags": []
     },
     "output_type": "execute_result"
    }
   ],
   "source": [
    "weights.shape"
   ]
  },
  {
   "cell_type": "code",
   "execution_count": 31,
   "metadata": {
    "colab": {
     "base_uri": "https://localhost:8080/"
    },
    "id": "L8bt58g0j3AU",
    "outputId": "119828cb-07a8-4515-c5f7-f8b3f2cb4e1e"
   },
   "outputs": [
    {
     "data": {
      "text/plain": [
       "array([0., 0., 0., 0., 0., 0., 0., 0., 0., 0., 0., 0., 0., 0., 0., 0., 0.,\n",
       "       0., 0., 0., 0., 0., 0., 0., 0., 0., 0., 0., 0., 0., 0., 0., 0., 0.,\n",
       "       0., 0., 0., 0., 0., 0., 0., 0., 0., 0., 0., 0., 0., 0., 0., 0., 0.,\n",
       "       0., 0., 0., 0., 0., 0., 0., 0., 0., 0., 0., 0., 0., 0., 0., 0., 0.,\n",
       "       0., 0., 0., 0., 0., 0., 0., 0., 0., 0., 0., 0., 0., 0., 0., 0., 0.,\n",
       "       0., 0., 0., 0., 0., 0., 0., 0., 0., 0., 0., 0., 0., 0., 0., 0., 0.,\n",
       "       0., 0., 0., 0., 0., 0., 0., 0., 0., 0., 0., 0., 0., 0., 0., 0., 0.,\n",
       "       0., 0., 0., 0., 0., 0., 0., 0., 0., 0., 0., 0., 0., 0., 0., 0., 0.,\n",
       "       0., 0., 0., 0., 0., 0., 0., 0., 0., 0., 0., 0., 0., 0., 0., 0., 0.,\n",
       "       0., 0., 0., 0., 0., 0., 0., 0., 0., 0., 0., 0., 0., 0., 0., 0., 0.,\n",
       "       0., 0., 0., 0., 0., 0., 0., 0., 0., 0., 0., 0., 0., 0., 0., 0., 0.,\n",
       "       0., 0., 0., 0., 0., 0., 0., 0., 0., 0., 0., 0., 0., 0., 0., 0., 0.,\n",
       "       0., 0., 0., 0., 0., 0., 0., 0., 0., 0., 0., 0., 0., 0., 0., 0., 0.,\n",
       "       0., 0., 0., 0., 0., 0., 0., 0., 0., 0., 0., 0., 0., 0., 0., 0., 0.,\n",
       "       0., 0., 0., 0., 0., 0., 0., 0., 0., 0., 0., 0., 0., 0., 0., 0., 0.,\n",
       "       0., 0., 0., 0., 0., 0., 0., 0., 0., 0., 0., 0., 0., 0., 0., 0., 0.,\n",
       "       0., 0., 0., 0., 0., 0., 0., 0., 0., 0., 0., 0., 0., 0., 0., 0., 0.,\n",
       "       0., 0., 0., 0., 0., 0., 0., 0., 0., 0., 0.], dtype=float32)"
      ]
     },
     "execution_count": 31,
     "metadata": {
      "tags": []
     },
     "output_type": "execute_result"
    }
   ],
   "source": [
    "biases"
   ]
  },
  {
   "cell_type": "code",
   "execution_count": 32,
   "metadata": {
    "colab": {
     "base_uri": "https://localhost:8080/"
    },
    "id": "sYLXAPsGj3AV",
    "outputId": "b46387b6-5dfe-4895-8c8e-72475323dd96"
   },
   "outputs": [
    {
     "data": {
      "text/plain": [
       "(300,)"
      ]
     },
     "execution_count": 32,
     "metadata": {
      "tags": []
     },
     "output_type": "execute_result"
    }
   ],
   "source": [
    "biases.shape"
   ]
  },
  {
   "cell_type": "markdown",
   "metadata": {
    "id": "TgJezKjOj3AW"
   },
   "source": [
    "Documentation - https://keras.io/models/sequential/"
   ]
  },
  {
   "cell_type": "markdown",
   "metadata": {
    "id": "Lov2DE4mj3AX"
   },
   "source": [
    "# 2. Compile Model"
   ]
  },
  {
   "cell_type": "markdown",
   "metadata": {
    "id": "xIbKff8jj3AY"
   },
   "source": [
    "# Model Compile is used to set up Learning Process such as Loss function, optimizer and metrics\n",
    "\n"
   ]
  },
  {
   "cell_type": "markdown",
   "metadata": {
    "id": "Ny3FinE-j3AY"
   },
   "source": [
    "Here loss is used as Sparse-Catgorical_crossentropy bcoz output y in form of labels. If output y is in form probabilities then used only categorical_crossentropy"
   ]
  },
  {
   "cell_type": "markdown",
   "metadata": {
    "id": "Ntr3opwRj3AZ"
   },
   "source": [
    "If output y is in binary 0 0r 1 or yes yes or no then use loss as binary_crossentropy"
   ]
  },
  {
   "cell_type": "markdown",
   "metadata": {
    "id": "ux3Udh36j3Aa"
   },
   "source": [
    "optimizer tells keras that perform back propogation"
   ]
  },
  {
   "cell_type": "code",
   "execution_count": 33,
   "metadata": {
    "id": "Ke3WyjJDj3Ab"
   },
   "outputs": [],
   "source": [
    "model.compile(loss=\"sparse_categorical_crossentropy\",\n",
    "              optimizer=\"sgd\",\n",
    "              metrics=[\"accuracy\"])"
   ]
  },
  {
   "cell_type": "markdown",
   "metadata": {
    "id": "TUEEyhGkj3Ac"
   },
   "source": [
    "# 3. Fit Model/Training Model"
   ]
  },
  {
   "cell_type": "code",
   "execution_count": 34,
   "metadata": {
    "colab": {
     "base_uri": "https://localhost:8080/"
    },
    "id": "czC9y2cAj3Ac",
    "outputId": "3f4aeaff-a65e-4616-afda-126ce071180c"
   },
   "outputs": [
    {
     "name": "stdout",
     "output_type": "stream",
     "text": [
      "Epoch 1/30\n",
      "1719/1719 [==============================] - 5s 3ms/step - loss: 0.7237 - accuracy: 0.7643 - val_loss: 0.5213 - val_accuracy: 0.8226\n",
      "Epoch 2/30\n",
      "1719/1719 [==============================] - 5s 3ms/step - loss: 0.4842 - accuracy: 0.8318 - val_loss: 0.4353 - val_accuracy: 0.8526\n",
      "Epoch 3/30\n",
      "1719/1719 [==============================] - 4s 3ms/step - loss: 0.4391 - accuracy: 0.8457 - val_loss: 0.5333 - val_accuracy: 0.7988\n",
      "Epoch 4/30\n",
      "1719/1719 [==============================] - 4s 3ms/step - loss: 0.4123 - accuracy: 0.8564 - val_loss: 0.3916 - val_accuracy: 0.8650\n",
      "Epoch 5/30\n",
      "1719/1719 [==============================] - 4s 2ms/step - loss: 0.3939 - accuracy: 0.8616 - val_loss: 0.3741 - val_accuracy: 0.8698\n",
      "Epoch 6/30\n",
      "1719/1719 [==============================] - 4s 3ms/step - loss: 0.3751 - accuracy: 0.8678 - val_loss: 0.3706 - val_accuracy: 0.8726\n",
      "Epoch 7/30\n",
      "1719/1719 [==============================] - 4s 3ms/step - loss: 0.3630 - accuracy: 0.8715 - val_loss: 0.3621 - val_accuracy: 0.8726\n",
      "Epoch 8/30\n",
      "1719/1719 [==============================] - 4s 3ms/step - loss: 0.3515 - accuracy: 0.8752 - val_loss: 0.3855 - val_accuracy: 0.8626\n",
      "Epoch 9/30\n",
      "1719/1719 [==============================] - 4s 3ms/step - loss: 0.3413 - accuracy: 0.8792 - val_loss: 0.3575 - val_accuracy: 0.8718\n",
      "Epoch 10/30\n",
      "1719/1719 [==============================] - 4s 3ms/step - loss: 0.3318 - accuracy: 0.8822 - val_loss: 0.3423 - val_accuracy: 0.8774\n",
      "Epoch 11/30\n",
      "1719/1719 [==============================] - 4s 2ms/step - loss: 0.3238 - accuracy: 0.8838 - val_loss: 0.3449 - val_accuracy: 0.8776\n",
      "Epoch 12/30\n",
      "1719/1719 [==============================] - 4s 3ms/step - loss: 0.3147 - accuracy: 0.8867 - val_loss: 0.3306 - val_accuracy: 0.8808\n",
      "Epoch 13/30\n",
      "1719/1719 [==============================] - 4s 2ms/step - loss: 0.3078 - accuracy: 0.8894 - val_loss: 0.3265 - val_accuracy: 0.8880\n",
      "Epoch 14/30\n",
      "1719/1719 [==============================] - 4s 2ms/step - loss: 0.3019 - accuracy: 0.8915 - val_loss: 0.3422 - val_accuracy: 0.8774\n",
      "Epoch 15/30\n",
      "1719/1719 [==============================] - 4s 3ms/step - loss: 0.2944 - accuracy: 0.8938 - val_loss: 0.3224 - val_accuracy: 0.8858\n",
      "Epoch 16/30\n",
      "1719/1719 [==============================] - 4s 2ms/step - loss: 0.2888 - accuracy: 0.8970 - val_loss: 0.3093 - val_accuracy: 0.8902\n",
      "Epoch 17/30\n",
      "1719/1719 [==============================] - 4s 2ms/step - loss: 0.2835 - accuracy: 0.8981 - val_loss: 0.3549 - val_accuracy: 0.8734\n",
      "Epoch 18/30\n",
      "1719/1719 [==============================] - 4s 2ms/step - loss: 0.2775 - accuracy: 0.9001 - val_loss: 0.3128 - val_accuracy: 0.8900\n",
      "Epoch 19/30\n",
      "1719/1719 [==============================] - 4s 2ms/step - loss: 0.2726 - accuracy: 0.9025 - val_loss: 0.3123 - val_accuracy: 0.8912\n",
      "Epoch 20/30\n",
      "1719/1719 [==============================] - 5s 3ms/step - loss: 0.2672 - accuracy: 0.9037 - val_loss: 0.3289 - val_accuracy: 0.8808\n",
      "Epoch 21/30\n",
      "1719/1719 [==============================] - 5s 3ms/step - loss: 0.2621 - accuracy: 0.9059 - val_loss: 0.3074 - val_accuracy: 0.8920\n",
      "Epoch 22/30\n",
      "1719/1719 [==============================] - 4s 3ms/step - loss: 0.2575 - accuracy: 0.9075 - val_loss: 0.2955 - val_accuracy: 0.8972\n",
      "Epoch 23/30\n",
      "1719/1719 [==============================] - 4s 3ms/step - loss: 0.2533 - accuracy: 0.9084 - val_loss: 0.2995 - val_accuracy: 0.8938\n",
      "Epoch 24/30\n",
      "1719/1719 [==============================] - 4s 3ms/step - loss: 0.2482 - accuracy: 0.9100 - val_loss: 0.3089 - val_accuracy: 0.8878\n",
      "Epoch 25/30\n",
      "1719/1719 [==============================] - 4s 2ms/step - loss: 0.2441 - accuracy: 0.9124 - val_loss: 0.2975 - val_accuracy: 0.8950\n",
      "Epoch 26/30\n",
      "1719/1719 [==============================] - 4s 2ms/step - loss: 0.2403 - accuracy: 0.9137 - val_loss: 0.3066 - val_accuracy: 0.8910\n",
      "Epoch 27/30\n",
      "1719/1719 [==============================] - 4s 3ms/step - loss: 0.2361 - accuracy: 0.9155 - val_loss: 0.3025 - val_accuracy: 0.8958\n",
      "Epoch 28/30\n",
      "1719/1719 [==============================] - 4s 3ms/step - loss: 0.2326 - accuracy: 0.9166 - val_loss: 0.2996 - val_accuracy: 0.8946\n",
      "Epoch 29/30\n",
      "1719/1719 [==============================] - 4s 3ms/step - loss: 0.2282 - accuracy: 0.9189 - val_loss: 0.3055 - val_accuracy: 0.8906\n",
      "Epoch 30/30\n",
      "1719/1719 [==============================] - 5s 3ms/step - loss: 0.2247 - accuracy: 0.9199 - val_loss: 0.3026 - val_accuracy: 0.8928\n"
     ]
    }
   ],
   "source": [
    "model_history = model.fit(X_train, y_train, epochs=30,\n",
    "                    validation_data=(X_valid, y_valid))"
   ]
  },
  {
   "cell_type": "code",
   "execution_count": 35,
   "metadata": {
    "colab": {
     "base_uri": "https://localhost:8080/"
    },
    "id": "Xgy8Tc0Fj3Ae",
    "outputId": "6cb6bd70-3f05-4d36-d43b-ae96f93780e4"
   },
   "outputs": [
    {
     "data": {
      "text/plain": [
       "{'epochs': 30, 'steps': 1719, 'verbose': 1}"
      ]
     },
     "execution_count": 35,
     "metadata": {
      "tags": []
     },
     "output_type": "execute_result"
    }
   ],
   "source": [
    "model_history.params"
   ]
  },
  {
   "cell_type": "code",
   "execution_count": 36,
   "metadata": {
    "colab": {
     "base_uri": "https://localhost:8080/"
    },
    "id": "_UNO-blGj3Af",
    "outputId": "05edbea7-0c7c-468e-b0ed-d60246e925ae"
   },
   "outputs": [
    {
     "data": {
      "text/plain": [
       "{'accuracy': [0.7643091082572937,\n",
       "  0.831781804561615,\n",
       "  0.8456545472145081,\n",
       "  0.8563636541366577,\n",
       "  0.8616363406181335,\n",
       "  0.8677818179130554,\n",
       "  0.8715272545814514,\n",
       "  0.8752181529998779,\n",
       "  0.8791999816894531,\n",
       "  0.8822181820869446,\n",
       "  0.8838000297546387,\n",
       "  0.8866727352142334,\n",
       "  0.8893818259239197,\n",
       "  0.8915091156959534,\n",
       "  0.8938363790512085,\n",
       "  0.8969636559486389,\n",
       "  0.8981454372406006,\n",
       "  0.9000727534294128,\n",
       "  0.902472734451294,\n",
       "  0.9037272930145264,\n",
       "  0.9059090614318848,\n",
       "  0.9075272679328918,\n",
       "  0.9083636403083801,\n",
       "  0.9100000262260437,\n",
       "  0.9124181866645813,\n",
       "  0.9137272834777832,\n",
       "  0.9154909253120422,\n",
       "  0.9166363477706909,\n",
       "  0.9188545346260071,\n",
       "  0.9198727011680603],\n",
       " 'loss': [0.7237027883529663,\n",
       "  0.484192818403244,\n",
       "  0.4390534460544586,\n",
       "  0.41231462359428406,\n",
       "  0.3939222991466522,\n",
       "  0.3750678300857544,\n",
       "  0.3630312979221344,\n",
       "  0.35152509808540344,\n",
       "  0.3412765860557556,\n",
       "  0.3317754566669464,\n",
       "  0.3238329291343689,\n",
       "  0.3146835267543793,\n",
       "  0.30778029561042786,\n",
       "  0.30192798376083374,\n",
       "  0.2943917214870453,\n",
       "  0.28883519768714905,\n",
       "  0.2835114002227783,\n",
       "  0.27753812074661255,\n",
       "  0.2725583016872406,\n",
       "  0.26720917224884033,\n",
       "  0.26212018728256226,\n",
       "  0.2575129568576813,\n",
       "  0.2533215582370758,\n",
       "  0.24818800389766693,\n",
       "  0.24413397908210754,\n",
       "  0.24030040204524994,\n",
       "  0.2361241728067398,\n",
       "  0.23258231580257416,\n",
       "  0.22820375859737396,\n",
       "  0.22473181784152985],\n",
       " 'val_accuracy': [0.8226000070571899,\n",
       "  0.8525999784469604,\n",
       "  0.798799991607666,\n",
       "  0.8650000095367432,\n",
       "  0.8697999715805054,\n",
       "  0.8726000189781189,\n",
       "  0.8726000189781189,\n",
       "  0.8626000285148621,\n",
       "  0.8718000054359436,\n",
       "  0.8773999810218811,\n",
       "  0.8776000142097473,\n",
       "  0.8808000087738037,\n",
       "  0.8880000114440918,\n",
       "  0.8773999810218811,\n",
       "  0.8858000040054321,\n",
       "  0.8902000188827515,\n",
       "  0.8733999729156494,\n",
       "  0.8899999856948853,\n",
       "  0.8912000060081482,\n",
       "  0.8808000087738037,\n",
       "  0.8920000195503235,\n",
       "  0.8971999883651733,\n",
       "  0.8938000202178955,\n",
       "  0.8877999782562256,\n",
       "  0.8949999809265137,\n",
       "  0.890999972820282,\n",
       "  0.895799994468689,\n",
       "  0.894599974155426,\n",
       "  0.8906000256538391,\n",
       "  0.892799973487854],\n",
       " 'val_loss': [0.5213177800178528,\n",
       "  0.4353218674659729,\n",
       "  0.5333406329154968,\n",
       "  0.3916124105453491,\n",
       "  0.3740810751914978,\n",
       "  0.3706005811691284,\n",
       "  0.3620573878288269,\n",
       "  0.3855200409889221,\n",
       "  0.35746830701828003,\n",
       "  0.34233367443084717,\n",
       "  0.34490251541137695,\n",
       "  0.3305920362472534,\n",
       "  0.32650965452194214,\n",
       "  0.3421776294708252,\n",
       "  0.3224159777164459,\n",
       "  0.3092650771141052,\n",
       "  0.3549402952194214,\n",
       "  0.31275853514671326,\n",
       "  0.3123112618923187,\n",
       "  0.3288777470588684,\n",
       "  0.3074253797531128,\n",
       "  0.29546183347702026,\n",
       "  0.2995152473449707,\n",
       "  0.30886930227279663,\n",
       "  0.2975446879863739,\n",
       "  0.3065853416919708,\n",
       "  0.3024672269821167,\n",
       "  0.2996077835559845,\n",
       "  0.3055015504360199,\n",
       "  0.3026241064071655]}"
      ]
     },
     "execution_count": 36,
     "metadata": {
      "tags": []
     },
     "output_type": "execute_result"
    }
   ],
   "source": [
    "model_history.history"
   ]
  },
  {
   "cell_type": "code",
   "execution_count": 37,
   "metadata": {
    "colab": {
     "base_uri": "https://localhost:8080/",
     "height": 324
    },
    "id": "LkY3WyRaj3Ah",
    "outputId": "9aa2cafd-c08a-40fd-ec26-1cd515f857b6"
   },
   "outputs": [
    {
     "data": {
      "image/png": "[encoded data removed]",
      "text/plain": [
       "<Figure size 576x360 with 1 Axes>"
      ]
     },
     "metadata": {
      "needs_background": "light",
      "tags": []
     },
     "output_type": "display_data"
    }
   ],
   "source": [
    "import pandas as pd\n",
    "\n",
    "pd.DataFrame(model_history.history).plot(figsize=(8, 5))\n",
    "plt.grid(True)\n",
    "plt.gca().set_ylim(0, 1)\n",
    "plt.show()"
   ]
  },
  {
   "cell_type": "markdown",
   "metadata": {
    "id": "eSW1rzKCj3Ai"
   },
   "source": [
    "# 4. Evaluate Model"
   ]
  },
  {
   "cell_type": "code",
   "execution_count": 38,
   "metadata": {
    "colab": {
     "base_uri": "https://localhost:8080/"
    },
    "id": "tHcc9G_gj3Aj",
    "outputId": "0bdc443f-5153-43cb-f6eb-879824cf3284"
   },
   "outputs": [
    {
     "name": "stdout",
     "output_type": "stream",
     "text": [
      "313/313 [==============================] - 0s 2ms/step - loss: 0.3366 - accuracy: 0.8820\n"
     ]
    },
    {
     "data": {
      "text/plain": [
       "[0.3366333842277527, 0.8820000290870667]"
      ]
     },
     "execution_count": 38,
     "metadata": {
      "tags": []
     },
     "output_type": "execute_result"
    }
   ],
   "source": [
    "model.evaluate(X_test, y_test)"
   ]
  },
  {
   "cell_type": "markdown",
   "metadata": {
    "id": "eex77rpPj3Al"
   },
   "source": [
    "# 5. Prediction"
   ]
  },
  {
   "cell_type": "code",
   "execution_count": 39,
   "metadata": {
    "id": "f0xXuX-fj3Am"
   },
   "outputs": [],
   "source": [
    "X_new = X_test[:3]"
   ]
  },
  {
   "cell_type": "code",
   "execution_count": 40,
   "metadata": {
    "colab": {
     "base_uri": "https://localhost:8080/"
    },
    "id": "yuHv1MlWj3An",
    "outputId": "b295de82-4365-46b7-d75f-31ce876fd727"
   },
   "outputs": [
    {
     "data": {
      "text/plain": [
       "array([[0.  , 0.  , 0.  , 0.  , 0.  , 0.01, 0.  , 0.03, 0.  , 0.96],\n",
       "       [0.  , 0.  , 0.99, 0.  , 0.01, 0.  , 0.  , 0.  , 0.  , 0.  ],\n",
       "       [0.  , 1.  , 0.  , 0.  , 0.  , 0.  , 0.  , 0.  , 0.  , 0.  ]],\n",
       "      dtype=float32)"
      ]
     },
     "execution_count": 40,
     "metadata": {
      "tags": []
     },
     "output_type": "execute_result"
    }
   ],
   "source": [
    "y_proba = model.predict(X_new)\n",
    "y_proba.round(2)"
   ]
  },
  {
   "cell_type": "code",
   "execution_count": 41,
   "metadata": {
    "colab": {
     "base_uri": "https://localhost:8080/"
    },
    "id": "PtkFekGKj3Ao",
    "outputId": "aada78f2-cabd-4dab-e1b5-e7ac99969155"
   },
   "outputs": [
    {
     "name": "stderr",
     "output_type": "stream",
     "text": [
      "/usr/local/lib/python3.7/dist-packages/tensorflow/python/keras/engine/sequential.py:455: UserWarning: `model.predict_classes()` is deprecated and will be removed after 2021-01-01. Please use instead:* `np.argmax(model.predict(x), axis=-1)`,   if your model does multi-class classification   (e.g. if it uses a `softmax` last-layer activation).* `(model.predict(x) > 0.5).astype(\"int32\")`,   if your model does binary classification   (e.g. if it uses a `sigmoid` last-layer activation).\n",
      "  warnings.warn('`model.predict_classes()` is deprecated and '\n"
     ]
    },
    {
     "data": {
      "text/plain": [
       "array([9, 2, 1])"
      ]
     },
     "execution_count": 41,
     "metadata": {
      "tags": []
     },
     "output_type": "execute_result"
    }
   ],
   "source": [
    "y_pred = model.predict_classes(X_new)\n",
    "y_pred"
   ]
  },
  {
   "cell_type": "code",
   "execution_count": 42,
   "metadata": {
    "colab": {
     "base_uri": "https://localhost:8080/"
    },
    "id": "d3Go_jlcj3Aq",
    "outputId": "4fcecf84-da4f-4c74-b3e8-d3ca4429fe73"
   },
   "outputs": [
    {
     "data": {
      "text/plain": [
       "array(['Ankle boot', 'Pullover', 'Trouser'], dtype='<U11')"
      ]
     },
     "execution_count": 42,
     "metadata": {
      "tags": []
     },
     "output_type": "execute_result"
    }
   ],
   "source": [
    "np.array(class_names)[y_pred]"
   ]
  },
  {
   "cell_type": "code",
   "execution_count": 43,
   "metadata": {
    "colab": {
     "base_uri": "https://localhost:8080/",
     "height": 282
    },
    "id": "VSGg-0Yij3Ar",
    "outputId": "0d4fa808-f023-4016-bdcc-232a00fc698f"
   },
   "outputs": [
    {
     "name": "stdout",
     "output_type": "stream",
     "text": [
      "AxesImage(54,36;334.8x217.44)\n"
     ]
    },
    {
     "data": {
      "image/png": "[encoded data removed]",
      "text/plain": [
       "<Figure size 432x288 with 1 Axes>"
      ]
     },
     "metadata": {
      "needs_background": "light",
      "tags": []
     },
     "output_type": "display_data"
    }
   ],
   "source": [
    "print(plt.imshow(X_test[0]))"
   ]
  },
  {
   "cell_type": "code",
   "execution_count": 44,
   "metadata": {
    "colab": {
     "base_uri": "https://localhost:8080/",
     "height": 282
    },
    "id": "-vMXbmSnj3At",
    "outputId": "6dea0812-615c-4452-8f89-1e8002e99f58"
   },
   "outputs": [
    {
     "name": "stdout",
     "output_type": "stream",
     "text": [
      "AxesImage(54,36;334.8x217.44)\n"
     ]
    },
    {
     "data": {
      "image/png": "[encoded data removed]",
      "text/plain": [
       "<Figure size 432x288 with 1 Axes>"
      ]
     },
     "metadata": {
      "needs_background": "light",
      "tags": []
     },
     "output_type": "display_data"
    }
   ],
   "source": [
    "print(plt.imshow(X_test[1]))"
   ]
  },
  {
   "cell_type": "code",
   "execution_count": 45,
   "metadata": {
    "colab": {
     "base_uri": "https://localhost:8080/",
     "height": 282
    },
    "id": "jxXPA9Tjj3Au",
    "outputId": "f8f6d689-63a9-4088-968e-d486483cce45"
   },
   "outputs": [
    {
     "name": "stdout",
     "output_type": "stream",
     "text": [
      "AxesImage(54,36;334.8x217.44)\n"
     ]
    },
    {
     "data": {
      "image/png": "[encoded data removed]",
      "text/plain": [
       "<Figure size 432x288 with 1 Axes>"
      ]
     },
     "metadata": {
      "needs_background": "light",
      "tags": []
     },
     "output_type": "display_data"
    }
   ],
   "source": [
    "print(plt.imshow(X_test[2]))"
   ]
  },
  {
   "cell_type": "code",
   "execution_count": 45,
   "metadata": {
    "id": "LZNG41DNj3Aw"
   },
   "outputs": [],
   "source": []
  },
  {
   "cell_type": "code",
   "execution_count": null,
   "metadata": {
    "id": "iBknWkOYj3Ax"
   },
   "outputs": [],
   "source": []
  }
 ],
 "metadata": {
  "colab": {
   "name": "ANN Fashion MNIST.ipynb",
   "provenance": []
  },
  "kernelspec": {
   "display_name": "Python 3 (ipykernel)",
   "language": "python",
   "name": "python3"
  },
  "language_info": {
   "codemirror_mode": {
    "name": "ipython",
    "version": 3
   },
   "file_extension": ".py",
   "mimetype": "text/x-python",
   "name": "python",
   "nbconvert_exporter": "python",
   "pygments_lexer": "ipython3",
   "version": "3.9.12"
  }
 },
 "nbformat": 4,
 "nbformat_minor": 1
}
